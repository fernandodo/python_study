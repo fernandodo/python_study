{
  "nbformat": 4,
  "nbformat_minor": 0,
  "metadata": {
    "colab": {
      "provenance": [],
      "toc_visible": true,
      "authorship_tag": "ABX9TyOhEVp8juQoAQCtkVzoyzup",
      "include_colab_link": true
    },
    "kernelspec": {
      "name": "python3",
      "display_name": "Python 3"
    },
    "language_info": {
      "name": "python"
    }
  },
  "cells": [
    {
      "cell_type": "markdown",
      "metadata": {
        "id": "view-in-github",
        "colab_type": "text"
      },
      "source": [
        "<a href=\"https://colab.research.google.com/github/fernandodo/python_study/blob/main/python_basic.ipynb\" target=\"_parent\"><img src=\"https://colab.research.google.com/assets/colab-badge.svg\" alt=\"Open In Colab\"/></a>"
      ]
    },
    {
      "cell_type": "markdown",
      "source": [
        "# Unsorted"
      ],
      "metadata": {
        "id": "vyYIgE0c1DnD"
      }
    },
    {
      "cell_type": "markdown",
      "source": [
        "### Python Docstrings\n",
        "https://www.programiz.com/python-programming/docstrings"
      ],
      "metadata": {
        "id": "j8PkfklM2lVc"
      }
    },
    {
      "cell_type": "markdown",
      "source": [
        "#### Creation\n",
        "Python docstrings are the string literals that **appear right after** the definition of a function, method, class, or module. Let's take an example."
      ],
      "metadata": {
        "id": "Y-f2q89L2P5_"
      }
    },
    {
      "cell_type": "code",
      "source": [
        "def square(n):\n",
        "    '''Takes in a number n, returns the square of n'''\n",
        "    return n**2\n",
        "def area(a,b):\n",
        "\t\"\"\"We can also use triple quotations to create docstrings.\"\"\"\n",
        "\treturn a*b\n",
        "print(area(3,5))\n",
        "print(square(4))"
      ],
      "metadata": {
        "colab": {
          "base_uri": "https://localhost:8080/"
        },
        "id": "SHElmqMQ1tpP",
        "outputId": "4c3ef979-ab66-4628-a2e0-b8ae2d7cb9c4"
      },
      "execution_count": 3,
      "outputs": [
        {
          "output_type": "stream",
          "name": "stdout",
          "text": [
            "15\n",
            "16\n"
          ]
        }
      ]
    },
    {
      "cell_type": "code",
      "source": [],
      "metadata": {
        "id": "XaIFCmND3fQC"
      },
      "execution_count": null,
      "outputs": []
    },
    {
      "cell_type": "markdown",
      "source": [
        "#### Python Comments vs Docstrings\n",
        "In Python, we use the hash symbol `#` to write a single-line comment. If we do not assign strings to any variable, they act as comments."
      ],
      "metadata": {
        "id": "WWpYyF7V3DXv"
      }
    },
    {
      "cell_type": "code",
      "source": [
        "\"I am a single-line comment\"\n",
        "\n",
        "'''\n",
        "I am a\n",
        "multi-line comment!\n",
        "'''\n",
        "print(\"Hello World\")"
      ],
      "metadata": {
        "colab": {
          "base_uri": "https://localhost:8080/"
        },
        "id": "iFhDPq2V3GmM",
        "outputId": "8ea2e581-ada5-40db-e7e0-7f8053e0d446"
      },
      "execution_count": 2,
      "outputs": [
        {
          "output_type": "stream",
          "name": "stdout",
          "text": [
            "Hello World\n"
          ]
        }
      ]
    },
    {
      "cell_type": "markdown",
      "source": [
        "#### Python __doc__ attribute\n",
        "Whenever string literals are present just after the definition of a function, module, class or method, they are associated with the object as their `__doc__` attribute. We can later use this attribute to retrieve this docstring."
      ],
      "metadata": {
        "id": "Kzn7If0Y3YVm"
      }
    },
    {
      "cell_type": "code",
      "source": [],
      "metadata": {
        "id": "gUxDA_t73avO"
      },
      "execution_count": null,
      "outputs": []
    }
  ]
}