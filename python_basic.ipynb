{
  "nbformat": 4,
  "nbformat_minor": 0,
  "metadata": {
    "colab": {
      "provenance": [],
      "toc_visible": true,
      "authorship_tag": "ABX9TyPAcpXMfAB1RxnLt4DYU9ce",
      "include_colab_link": true
    },
    "kernelspec": {
      "name": "python3",
      "display_name": "Python 3"
    },
    "language_info": {
      "name": "python"
    }
  },
  "cells": [
    {
      "cell_type": "markdown",
      "metadata": {
        "id": "view-in-github",
        "colab_type": "text"
      },
      "source": [
        "<a href=\"https://colab.research.google.com/github/fernandodo/python_study/blob/main/python_basic.ipynb\" target=\"_parent\"><img src=\"https://colab.research.google.com/assets/colab-badge.svg\" alt=\"Open In Colab\"/></a>"
      ]
    },
    {
      "cell_type": "markdown",
      "source": [
        "# Other"
      ],
      "metadata": {
        "id": "vyYIgE0c1DnD"
      }
    },
    {
      "cell_type": "markdown",
      "source": [
        "### Python Docstrings\n",
        "https://www.programiz.com/python-programming/docstrings"
      ],
      "metadata": {
        "id": "j8PkfklM2lVc"
      }
    },
    {
      "cell_type": "markdown",
      "source": [
        "#### Creation\n",
        "Python docstrings are the string literals that **appear right after** the definition of a function, method, class, or module. Let's take an example."
      ],
      "metadata": {
        "id": "Y-f2q89L2P5_"
      }
    },
    {
      "cell_type": "code",
      "source": [
        "def square(n):\n",
        "    '''Takes in a number n, returns the square of n'''\n",
        "    return n**2\n",
        "def area(a,b):\n",
        "\t\"\"\"We can also use triple quotations to create docstrings.\"\"\"\n",
        "\treturn a*b\n",
        "print(area(3,5))\n",
        "print(square(4))"
      ],
      "metadata": {
        "colab": {
          "base_uri": "https://localhost:8080/"
        },
        "id": "SHElmqMQ1tpP",
        "outputId": "4c3ef979-ab66-4628-a2e0-b8ae2d7cb9c4"
      },
      "execution_count": null,
      "outputs": [
        {
          "output_type": "stream",
          "name": "stdout",
          "text": [
            "15\n",
            "16\n"
          ]
        }
      ]
    },
    {
      "cell_type": "code",
      "source": [],
      "metadata": {
        "id": "XaIFCmND3fQC"
      },
      "execution_count": null,
      "outputs": []
    },
    {
      "cell_type": "markdown",
      "source": [
        "#### Python Comments vs Docstrings\n",
        "In Python, we use the hash symbol `#` to write a single-line comment. If we do not assign strings to any variable, they act as comments."
      ],
      "metadata": {
        "id": "WWpYyF7V3DXv"
      }
    },
    {
      "cell_type": "code",
      "source": [
        "\"I am a single-line comment\"\n",
        "\n",
        "'''\n",
        "I am a\n",
        "multi-line comment!\n",
        "'''\n",
        "print(\"Hello World\")"
      ],
      "metadata": {
        "colab": {
          "base_uri": "https://localhost:8080/"
        },
        "id": "iFhDPq2V3GmM",
        "outputId": "8ea2e581-ada5-40db-e7e0-7f8053e0d446"
      },
      "execution_count": null,
      "outputs": [
        {
          "output_type": "stream",
          "name": "stdout",
          "text": [
            "Hello World\n"
          ]
        }
      ]
    },
    {
      "cell_type": "markdown",
      "source": [
        "#### Python __doc__ attribute\n",
        "Whenever string literals are present just after the definition of a function, module, class or method, they are associated with the object as their `__doc__` attribute. We can later use this attribute to retrieve this docstring."
      ],
      "metadata": {
        "id": "Kzn7If0Y3YVm"
      }
    },
    {
      "cell_type": "code",
      "source": [
        "print(square.__doc__)\n",
        "print(print.__doc__)"
      ],
      "metadata": {
        "colab": {
          "base_uri": "https://localhost:8080/"
        },
        "id": "gUxDA_t73avO",
        "outputId": "5f8a2b63-6b51-4aeb-b172-7841ad3fb8c4"
      },
      "execution_count": null,
      "outputs": [
        {
          "output_type": "stream",
          "name": "stdout",
          "text": [
            "Takes in a number n, returns the square of n\n",
            "print(value, ..., sep=' ', end='\\n', file=sys.stdout, flush=False)\n",
            "\n",
            "Prints the values to a stream, or to sys.stdout by default.\n",
            "Optional keyword arguments:\n",
            "file:  a file-like object (stream); defaults to the current sys.stdout.\n",
            "sep:   string inserted between values, default a space.\n",
            "end:   string appended after the last value, default a newline.\n",
            "flush: whether to forcibly flush the stream.\n"
          ]
        }
      ]
    },
    {
      "cell_type": "markdown",
      "source": [
        "#### Single-line docstrings in Python\n",
        "Single line docstrings are the documents that fit in one line. Standard conventions to write single-line docstrings:\n",
        "* Even though they are single-lined, we still use the triple quotes around these docstrings as they can be expanded easily later.\n",
        "* The closing quotes are on the same line as the opening quotes.\n",
        "* There's no blank line either before or after the docstring.\n",
        "* They should not be descriptive, rather they must follow \"Do this, return that\" structure ending with a period."
      ],
      "metadata": {
        "id": "sY8lnJsWjt7s"
      }
    },
    {
      "cell_type": "markdown",
      "source": [
        "#### Multi-line Docstrings in Python\n",
        "Multi-line docstrings consist of a summary line just like a one-line docstring, followed by a blank line, followed by a more elaborate description.\n",
        "\n",
        "The PEP 257 document provides the standard conventions to write multi-line docstrings for various objects."
      ],
      "metadata": {
        "id": "3ASo5yXLk9uD"
      }
    },
    {
      "cell_type": "markdown",
      "source": [
        "Docstrings of Python module"
      ],
      "metadata": {
        "id": "QbFPIunKli_T"
      }
    },
    {
      "cell_type": "code",
      "source": [
        "import pickle\n",
        "print(pickle.__doc__)"
      ],
      "metadata": {
        "colab": {
          "base_uri": "https://localhost:8080/"
        },
        "id": "lxZ1znUlk9Wv",
        "outputId": "85a16f31-6ea1-42c0-d408-df97ad15f2a1"
      },
      "execution_count": 1,
      "outputs": [
        {
          "output_type": "stream",
          "name": "stdout",
          "text": [
            "Create portable serialized representations of Python objects.\n",
            "\n",
            "See module copyreg for a mechanism for registering custom picklers.\n",
            "See module pickletools source for extensive comments.\n",
            "\n",
            "Classes:\n",
            "\n",
            "    Pickler\n",
            "    Unpickler\n",
            "\n",
            "Functions:\n",
            "\n",
            "    dump(object, file)\n",
            "    dumps(object) -> string\n",
            "    load(file) -> object\n",
            "    loads(bytes) -> object\n",
            "\n",
            "Misc variables:\n",
            "\n",
            "    __version__\n",
            "    format_version\n",
            "    compatible_formats\n",
            "\n",
            "\n"
          ]
        }
      ]
    },
    {
      "cell_type": "markdown",
      "source": [
        "Docstrings for Python Functions"
      ],
      "metadata": {
        "id": "blDLPw6LltAG"
      }
    },
    {
      "cell_type": "code",
      "source": [
        "def add_binary(a, b):\n",
        "    '''\n",
        "    Returns the sum of two decimal numbers in binary digits.\n",
        "\n",
        "            Parameters:\n",
        "                    a (int): A decimal integer\n",
        "                    b (int): Another decimal integer\n",
        "\n",
        "            Returns:\n",
        "                    binary_sum (str): Binary string of the sum of a and b\n",
        "    '''\n",
        "    binary_sum = bin(a+b)[2:]\n",
        "    return binary_sum\n",
        "\n",
        "\n",
        "print(add_binary.__doc__)"
      ],
      "metadata": {
        "colab": {
          "base_uri": "https://localhost:8080/"
        },
        "id": "r0a_OosPk40g",
        "outputId": "356f1068-978f-45c2-9ecd-067250e34ffc"
      },
      "execution_count": 2,
      "outputs": [
        {
          "output_type": "stream",
          "name": "stdout",
          "text": [
            "\n",
            "    Returns the sum of two decimal numbers in binary digits.\n",
            "\n",
            "            Parameters:\n",
            "                    a (int): A decimal integer\n",
            "                    b (int): Another decimal integer\n",
            "\n",
            "            Returns:\n",
            "                    binary_sum (str): Binary string of the sum of a and b\n",
            "    \n"
          ]
        }
      ]
    },
    {
      "cell_type": "markdown",
      "source": [
        "Docstrings for Python Classes"
      ],
      "metadata": {
        "id": "IBwPPyDJlyyK"
      }
    },
    {
      "cell_type": "code",
      "source": [
        "class Person:\n",
        "    \"\"\"\n",
        "    A class to represent a person.\n",
        "\n",
        "    ...\n",
        "\n",
        "    Attributes\n",
        "    ----------\n",
        "    name : str\n",
        "        first name of the person\n",
        "    surname : str\n",
        "        family name of the person\n",
        "    age : int\n",
        "        age of the person\n",
        "\n",
        "    Methods\n",
        "    -------\n",
        "    info(additional=\"\"):\n",
        "        Prints the person's name and age.\n",
        "    \"\"\"\n",
        "\n",
        "    def __init__(self, name, surname, age):\n",
        "        \"\"\"\n",
        "        Constructs all the necessary attributes for the person object.\n",
        "\n",
        "        Parameters\n",
        "        ----------\n",
        "            name : str\n",
        "                first name of the person\n",
        "            surname : str\n",
        "                family name of the person\n",
        "            age : int\n",
        "                age of the person\n",
        "        \"\"\"\n",
        "\n",
        "        self.name = name\n",
        "        self.surname = surname\n",
        "        self.age = age\n",
        "\n",
        "    def info(self, additional=\"\"):\n",
        "        \"\"\"\n",
        "        Prints the person's name and age.\n",
        "\n",
        "        If the argument 'additional' is passed, then it is appended after the main info.\n",
        "\n",
        "        Parameters\n",
        "        ----------\n",
        "        additional : str, optional\n",
        "            More info to be displayed (default is None)\n",
        "\n",
        "        Returns\n",
        "        -------\n",
        "        None\n",
        "        \"\"\"\n",
        "\n",
        "        print(f'My name is {self.name} {self.surname}. I am {self.age} years old.' + additional)\n",
        "print(Person.__doc__)"
      ],
      "metadata": {
        "colab": {
          "base_uri": "https://localhost:8080/"
        },
        "id": "D84_faJblwwT",
        "outputId": "610c2145-59b5-42db-910d-8d52a39deb66"
      },
      "execution_count": 4,
      "outputs": [
        {
          "output_type": "stream",
          "name": "stdout",
          "text": [
            "\n",
            "    A class to represent a person.\n",
            "\n",
            "    ...\n",
            "\n",
            "    Attributes\n",
            "    ----------\n",
            "    name : str\n",
            "        first name of the person\n",
            "    surname : str\n",
            "        family name of the person\n",
            "    age : int\n",
            "        age of the person\n",
            "\n",
            "    Methods\n",
            "    -------\n",
            "    info(additional=\"\"):\n",
            "        Prints the person's name and age.\n",
            "    \n"
          ]
        }
      ]
    },
    {
      "cell_type": "markdown",
      "source": [
        "#### Using the `help()` Function for Docstrings to read the docstrings associated with various objects"
      ],
      "metadata": {
        "id": "KB4D5Z9amIKe"
      }
    },
    {
      "cell_type": "code",
      "source": [
        "help(Person)"
      ],
      "metadata": {
        "colab": {
          "base_uri": "https://localhost:8080/"
        },
        "id": "FqAEfnrFmPlD",
        "outputId": "80e31f30-305a-41d4-d238-76c0dd1f779d"
      },
      "execution_count": 5,
      "outputs": [
        {
          "output_type": "stream",
          "name": "stdout",
          "text": [
            "Help on class Person in module __main__:\n",
            "\n",
            "class Person(builtins.object)\n",
            " |  Person(name, surname, age)\n",
            " |  \n",
            " |  A class to represent a person.\n",
            " |  \n",
            " |  ...\n",
            " |  \n",
            " |  Attributes\n",
            " |  ----------\n",
            " |  name : str\n",
            " |      first name of the person\n",
            " |  surname : str\n",
            " |      family name of the person\n",
            " |  age : int\n",
            " |      age of the person\n",
            " |  \n",
            " |  Methods\n",
            " |  -------\n",
            " |  info(additional=\"\"):\n",
            " |      Prints the person's name and age.\n",
            " |  \n",
            " |  Methods defined here:\n",
            " |  \n",
            " |  __init__(self, name, surname, age)\n",
            " |      Constructs all the necessary attributes for the person object.\n",
            " |      \n",
            " |      Parameters\n",
            " |      ----------\n",
            " |          name : str\n",
            " |              first name of the person\n",
            " |          surname : str\n",
            " |              family name of the person\n",
            " |          age : int\n",
            " |              age of the person\n",
            " |  \n",
            " |  info(self, additional='')\n",
            " |      Prints the person's name and age.\n",
            " |      \n",
            " |      If the argument 'additional' is passed, then it is appended after the main info.\n",
            " |      \n",
            " |      Parameters\n",
            " |      ----------\n",
            " |      additional : str, optional\n",
            " |          More info to be displayed (default is None)\n",
            " |      \n",
            " |      Returns\n",
            " |      -------\n",
            " |      None\n",
            " |  \n",
            " |  ----------------------------------------------------------------------\n",
            " |  Data descriptors defined here:\n",
            " |  \n",
            " |  __dict__\n",
            " |      dictionary for instance variables (if defined)\n",
            " |  \n",
            " |  __weakref__\n",
            " |      list of weak references to the object (if defined)\n",
            "\n"
          ]
        }
      ]
    },
    {
      "cell_type": "markdown",
      "source": [
        "#### Others\n",
        "4. Docstrings for Python Scripts\n",
        "\n",
        "    The docstrings for Python script should document the script's functions and command-line syntax as a usable message.\n",
        "    It should serve as a quick reference to all the functions and arguments.\n",
        "5. Docstrings for Python Packages\n",
        "\n",
        "The docstrings for a Python package is written in the package's __init__.py file.\n",
        "\n",
        "    It should contain all the available modules and sub-packages exported by the package.\n"
      ],
      "metadata": {
        "id": "fT4Ck_3Fmqao"
      }
    }
  ]
}